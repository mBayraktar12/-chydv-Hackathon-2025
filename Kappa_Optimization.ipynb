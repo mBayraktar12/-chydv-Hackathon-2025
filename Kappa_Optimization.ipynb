{
  "metadata": {
    "kernelspec": {
      "language": "python",
      "display_name": "Python 3",
      "name": "python3"
    },
    "language_info": {
      "name": "python",
      "version": "3.10.12",
      "mimetype": "text/x-python",
      "codemirror_mode": {
        "name": "ipython",
        "version": 3
      },
      "pygments_lexer": "ipython3",
      "nbconvert_exporter": "python",
      "file_extension": ".py"
    },
    "kaggle": {
      "accelerator": "none",
      "dataSources": [
        {
          "sourceId": 89002,
          "databundleVersionId": 10221709,
          "sourceType": "competition"
        }
      ],
      "dockerImageVersionId": 30918,
      "isInternetEnabled": true,
      "language": "python",
      "sourceType": "notebook",
      "isGpuEnabled": false
    },
    "colab": {
      "name": "Kappa Optimization",
      "provenance": []
    }
  },
  "nbformat_minor": 0,
  "nbformat": 4,
  "cells": [
    {
      "source": [
        "# IMPORTANT: SOME KAGGLE DATA SOURCES ARE PRIVATE\n",
        "# RUN THIS CELL IN ORDER TO IMPORT YOUR KAGGLE DATA SOURCES.\n",
        "import kagglehub\n",
        "kagglehub.login()\n"
      ],
      "metadata": {
        "id": "tPcHgUBvbhn9"
      },
      "cell_type": "code",
      "outputs": [],
      "execution_count": null
    },
    {
      "source": [
        "# IMPORTANT: RUN THIS CELL IN ORDER TO IMPORT YOUR KAGGLE DATA SOURCES,\n",
        "# THEN FEEL FREE TO DELETE THIS CELL.\n",
        "# NOTE: THIS NOTEBOOK ENVIRONMENT DIFFERS FROM KAGGLE'S PYTHON\n",
        "# ENVIRONMENT SO THERE MAY BE MISSING LIBRARIES USED BY YOUR\n",
        "# NOTEBOOK.\n",
        "\n",
        "chydv_hackathon_2025_path = kagglehub.competition_download('chydv-hackathon-2025')\n",
        "\n",
        "print('Data source import complete.')\n"
      ],
      "metadata": {
        "id": "psK2Hll8bhn-"
      },
      "cell_type": "code",
      "outputs": [],
      "execution_count": null
    },
    {
      "cell_type": "code",
      "source": [
        "!pip install -qq pytabkit"
      ],
      "metadata": {
        "trusted": true,
        "execution": {
          "iopub.status.busy": "2025-03-03T02:14:41.314757Z",
          "iopub.execute_input": "2025-03-03T02:14:41.315044Z",
          "iopub.status.idle": "2025-03-03T02:14:52.666503Z",
          "shell.execute_reply.started": "2025-03-03T02:14:41.315013Z",
          "shell.execute_reply": "2025-03-03T02:14:52.665556Z"
        },
        "id": "nbZA693Rbhn-"
      },
      "outputs": [],
      "execution_count": null
    },
    {
      "cell_type": "code",
      "source": [
        "import numpy as np # linear algebra\n",
        "import pandas as pd # data processing, CSV file I/O (e.g. pd.read_csv)\n",
        "from sklearn.metrics import cohen_kappa_score, accuracy_score, mean_squared_error\n",
        "from scipy.optimize import minimize\n",
        "\n",
        "from sklearn.ensemble import VotingRegressor\n",
        "\n",
        "\n",
        "pd.set_option('display.max_columns', 500)\n",
        "pd.set_option('display.max_rows', 500)\n",
        "import warnings\n",
        "warnings.filterwarnings(\"ignore\")"
      ],
      "metadata": {
        "_uuid": "8f2839f25d086af736a60e9eeb907d3b93b6e0e5",
        "_cell_guid": "b1076dfc-b9ad-4769-8c92-a6c4dae69d19",
        "trusted": true,
        "execution": {
          "iopub.status.busy": "2025-03-03T03:17:58.985044Z",
          "iopub.execute_input": "2025-03-03T03:17:58.985426Z",
          "iopub.status.idle": "2025-03-03T03:17:58.990865Z",
          "shell.execute_reply.started": "2025-03-03T03:17:58.985388Z",
          "shell.execute_reply": "2025-03-03T03:17:58.989591Z"
        },
        "id": "_oOF-aTobhn_"
      },
      "outputs": [],
      "execution_count": null
    },
    {
      "cell_type": "code",
      "source": [
        "def quadratic_weighted_kappa(y_true, y_pred):\n",
        "    return cohen_kappa_score(y_true, y_pred, weights='quadratic')\n",
        "\n",
        "def threshold_Rounder(oof_non_rounded, thresholds):\n",
        "    # Assumes target classes: 3, 4, 5, 6, 7, 8.\n",
        "    return np.where(oof_non_rounded < thresholds[0], 3,\n",
        "                    np.where(oof_non_rounded < thresholds[1], 4,\n",
        "                             np.where(oof_non_rounded < thresholds[2], 5,\n",
        "                                      np.where(oof_non_rounded < thresholds[3], 6,\n",
        "                                               np.where(oof_non_rounded < thresholds[4], 7, 8)))))\n",
        "\n",
        "def evaluate_predictions(thresholds, y_true, oof_non_rounded):\n",
        "    rounded_p = threshold_Rounder(oof_non_rounded, thresholds)\n",
        "    return -quadratic_weighted_kappa(y_true, rounded_p)"
      ],
      "metadata": {
        "trusted": true,
        "execution": {
          "iopub.status.busy": "2025-03-03T03:15:38.813807Z",
          "iopub.execute_input": "2025-03-03T03:15:38.814233Z",
          "iopub.status.idle": "2025-03-03T03:15:38.820483Z",
          "shell.execute_reply.started": "2025-03-03T03:15:38.814199Z",
          "shell.execute_reply": "2025-03-03T03:15:38.819292Z"
        },
        "id": "UxBp-eTsbhn_"
      },
      "outputs": [],
      "execution_count": null
    },
    {
      "cell_type": "code",
      "source": [
        "train = pd.read_csv('/kaggle/input/chydv-hackathon-2025/train.csv')\n",
        "test = pd.read_csv('/kaggle/input/chydv-hackathon-2025/test.csv')\n",
        "sub = pd.read_csv('/kaggle/input/chydv-hackathon-2025/sample_submission.csv')"
      ],
      "metadata": {
        "trusted": true,
        "execution": {
          "iopub.status.busy": "2025-03-03T03:15:42.76082Z",
          "iopub.execute_input": "2025-03-03T03:15:42.761161Z",
          "iopub.status.idle": "2025-03-03T03:15:42.808073Z",
          "shell.execute_reply.started": "2025-03-03T03:15:42.761133Z",
          "shell.execute_reply": "2025-03-03T03:15:42.807252Z"
        },
        "id": "bym7zyizbhoA"
      },
      "outputs": [],
      "execution_count": null
    },
    {
      "cell_type": "code",
      "source": [
        "train.shape, test.shape, sub.shape"
      ],
      "metadata": {
        "trusted": true,
        "execution": {
          "iopub.status.busy": "2025-03-03T03:15:42.915962Z",
          "iopub.execute_input": "2025-03-03T03:15:42.916377Z",
          "iopub.status.idle": "2025-03-03T03:15:42.923104Z",
          "shell.execute_reply.started": "2025-03-03T03:15:42.916341Z",
          "shell.execute_reply": "2025-03-03T03:15:42.921983Z"
        },
        "id": "X2aAcjr8bhoA"
      },
      "outputs": [],
      "execution_count": null
    },
    {
      "cell_type": "code",
      "source": [
        "train.head()"
      ],
      "metadata": {
        "trusted": true,
        "execution": {
          "iopub.status.busy": "2025-03-03T03:15:44.850888Z",
          "iopub.execute_input": "2025-03-03T03:15:44.851283Z",
          "iopub.status.idle": "2025-03-03T03:15:44.87125Z",
          "shell.execute_reply.started": "2025-03-03T03:15:44.851245Z",
          "shell.execute_reply": "2025-03-03T03:15:44.869758Z"
        },
        "id": "OOYDbPHLbhoA"
      },
      "outputs": [],
      "execution_count": null
    },
    {
      "cell_type": "code",
      "source": [
        "train.quality.value_counts()"
      ],
      "metadata": {
        "trusted": true,
        "execution": {
          "iopub.status.busy": "2025-03-03T03:15:45.00868Z",
          "iopub.execute_input": "2025-03-03T03:15:45.009066Z",
          "iopub.status.idle": "2025-03-03T03:15:45.01729Z",
          "shell.execute_reply.started": "2025-03-03T03:15:45.009033Z",
          "shell.execute_reply": "2025-03-03T03:15:45.015901Z"
        },
        "id": "MQm1eyIzbhoA"
      },
      "outputs": [],
      "execution_count": null
    },
    {
      "cell_type": "code",
      "source": [
        "test.head()"
      ],
      "metadata": {
        "trusted": true,
        "execution": {
          "iopub.status.busy": "2025-03-03T03:15:45.169616Z",
          "iopub.execute_input": "2025-03-03T03:15:45.169957Z",
          "iopub.status.idle": "2025-03-03T03:15:45.186672Z",
          "shell.execute_reply.started": "2025-03-03T03:15:45.169929Z",
          "shell.execute_reply": "2025-03-03T03:15:45.185682Z"
        },
        "id": "szJebRvpbhoA"
      },
      "outputs": [],
      "execution_count": null
    },
    {
      "cell_type": "code",
      "source": [
        "FEATURES = [col for col in train.columns if col != 'id' and col != 'quality']\n",
        "FEATURES\n",
        "\n",
        "TARGET = 'quality'"
      ],
      "metadata": {
        "trusted": true,
        "execution": {
          "iopub.status.busy": "2025-03-03T03:15:46.091965Z",
          "iopub.execute_input": "2025-03-03T03:15:46.092322Z",
          "iopub.status.idle": "2025-03-03T03:15:46.097216Z",
          "shell.execute_reply.started": "2025-03-03T03:15:46.092294Z",
          "shell.execute_reply": "2025-03-03T03:15:46.09591Z"
        },
        "id": "ccQ9XgG_bhoA"
      },
      "outputs": [],
      "execution_count": null
    },
    {
      "cell_type": "code",
      "source": [
        "from sklearn.model_selection import KFold\n",
        "from xgboost import XGBRegressor, XGBClassifier\n",
        "import xgboost as xgb\n",
        "print(\"Using XGBoost version\",xgb.__version__)"
      ],
      "metadata": {
        "trusted": true,
        "execution": {
          "iopub.status.busy": "2025-03-03T03:15:46.262716Z",
          "iopub.execute_input": "2025-03-03T03:15:46.263077Z",
          "iopub.status.idle": "2025-03-03T03:15:46.268447Z",
          "shell.execute_reply.started": "2025-03-03T03:15:46.263043Z",
          "shell.execute_reply": "2025-03-03T03:15:46.267312Z"
        },
        "id": "Z30cBRPabhoA"
      },
      "outputs": [],
      "execution_count": null
    },
    {
      "cell_type": "code",
      "source": [
        "from catboost import CatBoostRegressor, CatBoostClassifier\n",
        "import catboost as cb\n",
        "print(\"Using CatBoost version\",cb.__version__)"
      ],
      "metadata": {
        "trusted": true,
        "execution": {
          "iopub.status.busy": "2025-03-03T03:15:46.412215Z",
          "iopub.execute_input": "2025-03-03T03:15:46.412589Z",
          "iopub.status.idle": "2025-03-03T03:15:46.418235Z",
          "shell.execute_reply.started": "2025-03-03T03:15:46.41256Z",
          "shell.execute_reply": "2025-03-03T03:15:46.417384Z"
        },
        "id": "kOAEq-zlbhoB"
      },
      "outputs": [],
      "execution_count": null
    },
    {
      "cell_type": "code",
      "source": [
        "from lightgbm import LGBMRegressor\n",
        "import lightgbm as lgb\n",
        "print(\"Using LightGBM version\",lgb.__version__)"
      ],
      "metadata": {
        "trusted": true,
        "execution": {
          "iopub.status.busy": "2025-03-03T03:15:48.369796Z",
          "iopub.execute_input": "2025-03-03T03:15:48.370112Z",
          "iopub.status.idle": "2025-03-03T03:15:48.375667Z",
          "shell.execute_reply.started": "2025-03-03T03:15:48.370085Z",
          "shell.execute_reply": "2025-03-03T03:15:48.374485Z"
        },
        "id": "P-0Pv4uXbhoB"
      },
      "outputs": [],
      "execution_count": null
    },
    {
      "cell_type": "code",
      "source": [
        "from pytabkit import RealMLP_TD_Regressor\n",
        "from pytabkit import TabM_D_Regressor"
      ],
      "metadata": {
        "trusted": true,
        "execution": {
          "iopub.status.busy": "2025-03-03T03:15:48.584946Z",
          "iopub.execute_input": "2025-03-03T03:15:48.585332Z",
          "iopub.status.idle": "2025-03-03T03:15:48.589318Z",
          "shell.execute_reply.started": "2025-03-03T03:15:48.585298Z",
          "shell.execute_reply": "2025-03-03T03:15:48.588297Z"
        },
        "id": "gim7nuO3bhoB"
      },
      "outputs": [],
      "execution_count": null
    },
    {
      "cell_type": "code",
      "source": [
        "realmlp_params = {\n",
        "    'n_cv'                : 5,\n",
        "    'n_epochs'            : 50,\n",
        "    'train_metric_name'   : 'rmse',\n",
        "    'p_drop'              : 0.3,\n",
        "    'batch_size'          : 1024*4,\n",
        "    'verbosity'           : 2,\n",
        "    'lr'                  : 0.01,\n",
        "    'lr_sched'            : 'cos_sched',\n",
        "    'max_one_hot_cat_size': 64,\n",
        "    'embedding_size'      : 8,\n",
        "    'tfms'                : [\"one_hot\", \"median_center\", \"robust_scale\", \"smooth_clip\", \"embedding\", \"l1_normalize\"],\n",
        "}\n",
        "\n",
        "realmlp_model = RealMLP_TD_Regressor(**realmlp_params, random_state=42)"
      ],
      "metadata": {
        "trusted": true,
        "execution": {
          "iopub.status.busy": "2025-03-03T03:15:49.014874Z",
          "iopub.execute_input": "2025-03-03T03:15:49.015239Z",
          "iopub.status.idle": "2025-03-03T03:15:49.021005Z",
          "shell.execute_reply.started": "2025-03-03T03:15:49.015208Z",
          "shell.execute_reply": "2025-03-03T03:15:49.01961Z"
        },
        "id": "muVnHA7RbhoB"
      },
      "outputs": [],
      "execution_count": null
    },
    {
      "cell_type": "code",
      "source": [
        "# from sklearn.model_selection import KFold\n",
        "\n",
        "# FOLDS = 5\n",
        "# kf = KFold(n_splits=FOLDS, shuffle=True, random_state=42)\n",
        "\n",
        "# y_test_pred = np.zeros(len(test))\n",
        "\n",
        "# fold_qwks = []\n",
        "# oof_non_rounded = np.zeros(len(train), dtype=float)\n",
        "# oof_rounded = np.zeros(len(train), dtype=int)\n",
        "\n",
        "# y = train[TARGET]\n",
        "\n",
        "# train_scores = []\n",
        "# val_scores = []\n",
        "\n",
        "\n",
        "# for i, (train_index, test_index) in enumerate(kf.split(train)):\n",
        "\n",
        "#     print(\"#\"*25)\n",
        "#     print(f\"### Fold {i+1}\")\n",
        "#     print(\"#\"*25)\n",
        "\n",
        "#     x_train = train.loc[train_index,FEATURES].copy()\n",
        "#     y_train = y[train_index].copy()\n",
        "#     x_valid = train.loc[test_index,FEATURES].copy()\n",
        "#     y_valid = y[test_index].copy()\n",
        "#     x_test = test[FEATURES].copy()\n",
        "\n",
        "#     realmlp_model.fit(\n",
        "#         x_train, y_train,\n",
        "#     )\n",
        "\n",
        "#     y_train_pred = realmlp_model.predict(x_train)\n",
        "#     y_val_pred = realmlp_model.predict(x_valid)\n",
        "#     y_test_pred += realmlp_model.predict(x_test)\n",
        "\n",
        "#     y_val_pred_rounded = y_val_pred.round(0).astype(int)\n",
        "\n",
        "#     # INFER OOF\n",
        "#     oof_non_rounded[test_index] = y_val_pred\n",
        "#     oof_rounded[test_index] = y_val_pred_rounded\n",
        "\n",
        "#     train_kappa = quadratic_weighted_kappa(y_train, y_train_pred.round(0).astype(int))\n",
        "#     val_kappa = quadratic_weighted_kappa(y_valid, y_val_pred_rounded)\n",
        "\n",
        "#     train_scores.append(train_kappa)\n",
        "#     val_scores.append(val_kappa)\n",
        "\n",
        "#     print(f\"Fold {i+1} - Train QWK: {train_kappa:.4f}, Validation QWK:{val_kappa:.4f}\")\n",
        "\n",
        "\n",
        "# mean_train_qwk = np.mean(train_scores)\n",
        "# mean_val_qwk = np.mean(val_scores)\n",
        "\n",
        "# KappaOptimizer = minimize(\n",
        "#     evaluate_predictions,\n",
        "#     x0 = [3.5, 4.5, 5.5, 6.5, 7.5],\n",
        "#     args = (y, oof_non_rounded),\n",
        "#     method='Nelder-Mead'\n",
        "# )\n",
        "\n",
        "# assert KappaOptimizer.success, \"Optimization did not converge.\"\n",
        "\n",
        "# oof_tuned = threshold_Rounder(oof_non_rounded, KappaOptimizer.x)\n",
        "# optimized_qwk = quadratic_weighted_kappa(y, oof_tuned)\n",
        "# optimized_thresholds = KappaOptimizer.x\n",
        "\n",
        "\n",
        "# print(f\"Optimized QWK SCORE: {optimized_qwk:.3f}\")\n",
        "\n",
        "# print(f\"Mean Train QWK: {mean_train_qwk:.4f}\")\n",
        "# print(f\"Mean Validation QWK: {mean_val_qwk:.4f}\")\n",
        "# print(f\"Optimized QWK: {optimized_qwk}\")\n",
        "# print(f\"Optimized thresholds: {optimized_thresholds}\")\n",
        "\n",
        "\n",
        "# # COMPUTE AVERAGE TEST PREDS\n",
        "# y_test_pred /= FOLDS\n",
        "\n",
        "# optimized_y_pred = threshold_Rounder(y_test_preds, optimized_thresholds)"
      ],
      "metadata": {
        "trusted": true,
        "execution": {
          "iopub.status.busy": "2025-03-03T03:27:11.794712Z",
          "iopub.execute_input": "2025-03-03T03:27:11.795034Z",
          "iopub.status.idle": "2025-03-03T03:27:11.799566Z",
          "shell.execute_reply.started": "2025-03-03T03:27:11.795009Z",
          "shell.execute_reply": "2025-03-03T03:27:11.798541Z"
        },
        "id": "simVogYFbhoB"
      },
      "outputs": [],
      "execution_count": null
    },
    {
      "cell_type": "code",
      "source": [
        "xgb_params = {\n",
        "    'max_depth'           : 3,\n",
        "    'learning_rate'       : 0.025,\n",
        "    'n_estimators'        : 2000,\n",
        "    'min_child_weight'    : 80,\n",
        "    'verbosity'           : 0\n",
        "    }\n",
        "\n",
        "cat_params = {\n",
        "    'depth'               : 3,\n",
        "    'learning_rate'       : 0.1,\n",
        "    'grow_policy'         : 'Lossguide',\n",
        "    'verbose'             : False\n",
        "}\n",
        "\n",
        "lgb_params = {\n",
        "    'max_depth': 3,\n",
        "    'n_estimators': 2000,\n",
        "    'learning_rate': 0.02,\n",
        "    'objective': 'regression',\n",
        "    'verbose': -1,\n",
        "}\n",
        "\n",
        "\n",
        "model_xgb = XGBRegressor(**xgb_params, random_state=42)\n",
        "model_cat = CatBoostRegressor(**cat_params, random_state=42)\n",
        "model_lgb = LGBMRegressor(**lgb_params, random_state=42)"
      ],
      "metadata": {
        "trusted": true,
        "execution": {
          "iopub.status.busy": "2025-03-03T04:02:01.729786Z",
          "iopub.execute_input": "2025-03-03T04:02:01.730114Z",
          "iopub.status.idle": "2025-03-03T04:02:01.736857Z",
          "shell.execute_reply.started": "2025-03-03T04:02:01.730089Z",
          "shell.execute_reply": "2025-03-03T04:02:01.735882Z"
        },
        "id": "-LYhMaOQbhoB"
      },
      "outputs": [],
      "execution_count": null
    },
    {
      "cell_type": "code",
      "source": [
        "from sklearn.model_selection import KFold\n",
        "\n",
        "FOLDS = 5\n",
        "kf = KFold(n_splits=FOLDS, shuffle=True, random_state=42)\n",
        "\n",
        "y_test_pred = np.zeros(len(test))\n",
        "\n",
        "fold_qwks = []\n",
        "oof_non_rounded = np.zeros(len(train), dtype=float)\n",
        "oof_rounded = np.zeros(len(train), dtype=int)\n",
        "\n",
        "y = train[TARGET]\n",
        "\n",
        "train_scores = []\n",
        "val_scores = []\n",
        "\n",
        "\n",
        "for i, (train_index, test_index) in enumerate(kf.split(train)):\n",
        "\n",
        "    print(\"#\"*25)\n",
        "    print(f\"### Fold {i+1}\")\n",
        "    print(\"#\"*25)\n",
        "\n",
        "    x_train = train.loc[train_index,FEATURES].copy()\n",
        "    y_train = y[train_index].copy()\n",
        "    x_valid = train.loc[test_index,FEATURES].copy()\n",
        "    y_valid = y[test_index].copy()\n",
        "    x_test = test[FEATURES].copy()\n",
        "\n",
        "    model_cat.fit(\n",
        "        x_train, y_train,\n",
        "        eval_set=(x_valid, y_valid),\n",
        "        verbose=500\n",
        "    )\n",
        "\n",
        "    y_train_pred = model_cat.predict(x_train)\n",
        "    y_val_pred = model_cat.predict(x_valid)\n",
        "    y_test_pred += model_cat.predict(x_test)\n",
        "\n",
        "    y_val_pred_rounded = y_val_pred.round(0).astype(int)\n",
        "\n",
        "    # INFER OOF\n",
        "    oof_non_rounded[test_index] = y_val_pred\n",
        "    oof_rounded[test_index] = y_val_pred_rounded\n",
        "\n",
        "    train_kappa = quadratic_weighted_kappa(y_train, y_train_pred.round(0).astype(int))\n",
        "    val_kappa = quadratic_weighted_kappa(y_valid, y_val_pred_rounded)\n",
        "\n",
        "    train_scores.append(train_kappa)\n",
        "    val_scores.append(val_kappa)\n",
        "\n",
        "    print(f\"Fold {i+1} - Train QWK: {train_kappa:.4f}, Validation QWK:{val_kappa:.4f}\")\n",
        "\n",
        "\n",
        "mean_train_qwk = np.mean(train_scores)\n",
        "mean_val_qwk = np.mean(val_scores)\n",
        "\n",
        "oof_mask = ~np.isnan(oof_non_rounded)\n",
        "oof_initial_thresholds = (\n",
        "            pd.DataFrame({'target': y[oof_mask], 'prediction': oof_non_rounded[oof_mask]})\n",
        "            .groupby('target')['prediction']\n",
        "            .mean()\n",
        "            .iloc[1:]\n",
        "            .values\n",
        "            .tolist()\n",
        "        )\n",
        "\n",
        "print(f\"Initial oof thresholds {oof_initial_thresholds}\")\n",
        "\n",
        "# KappaOptimizer = minimize(\n",
        "#     evaluate_predictions,\n",
        "#     x0 = [3.5, 4.5, 5.5, 6.5, 7.5],\n",
        "#     args = (y, oof_non_rounded),\n",
        "#     method='Nelder-Mead'\n",
        "# )\n",
        "\n",
        "KappaOptimizer = minimize(\n",
        "    evaluate_predictions,\n",
        "    x0 = oof_initial_thresholds,\n",
        "    args = (y, oof_non_rounded),\n",
        "    method='Nelder-Mead'\n",
        ")\n",
        "\n",
        "\n",
        "assert KappaOptimizer.success, \"Optimization did not converge.\"\n",
        "\n",
        "oof_tuned = threshold_Rounder(oof_non_rounded, KappaOptimizer.x)\n",
        "optimized_qwk = quadratic_weighted_kappa(y, oof_tuned)\n",
        "optimized_thresholds = KappaOptimizer.x\n",
        "\n",
        "\n",
        "print(f\"Optimized QWK SCORE: {optimized_qwk:.3f}\")\n",
        "\n",
        "print(f\"Mean Train QWK: {mean_train_qwk:.4f}\")\n",
        "print(f\"Mean Validation QWK: {mean_val_qwk:.4f}\")\n",
        "print(f\"Optimized QWK: {optimized_qwk}\")\n",
        "print(f\"Optimized thresholds: {optimized_thresholds}\")\n",
        "\n",
        "\n",
        "# COMPUTE AVERAGE TEST PREDS\n",
        "y_test_pred /= FOLDS\n",
        "\n",
        "optimized_y_pred = threshold_Rounder(y_test_pred, optimized_thresholds)"
      ],
      "metadata": {
        "trusted": true,
        "execution": {
          "iopub.status.busy": "2025-03-03T04:02:01.890005Z",
          "iopub.execute_input": "2025-03-03T04:02:01.89032Z",
          "iopub.status.idle": "2025-03-03T04:02:18.814287Z",
          "shell.execute_reply.started": "2025-03-03T04:02:01.890295Z",
          "shell.execute_reply": "2025-03-03T04:02:18.813347Z"
        },
        "id": "1vTyHuPObhoB"
      },
      "outputs": [],
      "execution_count": null
    },
    {
      "cell_type": "code",
      "source": [
        "# estimators = [\n",
        "#     ('lgb', model_lgb), ('xgb', model_xgb), ('cb', model_cat),\n",
        "# ]\n",
        "\n",
        "# model = VotingRegressor(estimators, weights=[0.35, 0.2, 0.45])"
      ],
      "metadata": {
        "trusted": true,
        "execution": {
          "iopub.status.busy": "2025-03-03T03:26:37.770761Z",
          "iopub.execute_input": "2025-03-03T03:26:37.771068Z",
          "iopub.status.idle": "2025-03-03T03:26:37.779087Z",
          "shell.execute_reply.started": "2025-03-03T03:26:37.771044Z",
          "shell.execute_reply": "2025-03-03T03:26:37.778246Z"
        },
        "id": "G61qKWkRbhoB"
      },
      "outputs": [],
      "execution_count": null
    },
    {
      "cell_type": "code",
      "source": [
        "# from sklearn.model_selection import KFold\n",
        "\n",
        "# FOLDS = 5\n",
        "# kf = KFold(n_splits=FOLDS, shuffle=True, random_state=42)\n",
        "\n",
        "# y_test_pred = np.zeros(len(test))\n",
        "\n",
        "# fold_qwks = []\n",
        "# oof_non_rounded = np.zeros(len(train), dtype=float)\n",
        "# oof_rounded = np.zeros(len(train), dtype=int)\n",
        "\n",
        "# y = train[TARGET]\n",
        "\n",
        "# train_scores = []\n",
        "# val_scores = []\n",
        "\n",
        "\n",
        "# for i, (train_index, test_index) in enumerate(kf.split(train)):\n",
        "\n",
        "#     print(\"#\"*25)\n",
        "#     print(f\"### Fold {i+1}\")\n",
        "#     print(\"#\"*25)\n",
        "\n",
        "#     x_train = train.loc[train_index,FEATURES].copy()\n",
        "#     y_train = y[train_index].copy()\n",
        "#     x_valid = train.loc[test_index,FEATURES].copy()\n",
        "#     y_valid = y[test_index].copy()\n",
        "#     x_test = test[FEATURES].copy()\n",
        "\n",
        "#     model.fit(\n",
        "#         x_train, y_train,\n",
        "#         # eval_set=(x_valid, y_valid),\n",
        "#         # verbose=500\n",
        "#     )\n",
        "\n",
        "#     y_train_pred = model.predict(x_train)\n",
        "#     y_val_pred = model.predict(x_valid)\n",
        "#     y_test_pred += model.predict(x_test)\n",
        "\n",
        "#     y_val_pred_rounded = y_val_pred.round(0).astype(int)\n",
        "\n",
        "#     # INFER OOF\n",
        "#     oof_non_rounded[test_index] = y_val_pred\n",
        "#     oof_rounded[test_index] = y_val_pred_rounded\n",
        "\n",
        "#     train_kappa = quadratic_weighted_kappa(y_train, y_train_pred.round(0).astype(int))\n",
        "#     val_kappa = quadratic_weighted_kappa(y_valid, y_val_pred_rounded)\n",
        "\n",
        "#     train_scores.append(train_kappa)\n",
        "#     val_scores.append(val_kappa)\n",
        "\n",
        "#     print(f\"Fold {i+1} - Train QWK: {train_kappa:.4f}, Validation QWK:{val_kappa:.4f}\")\n",
        "\n",
        "\n",
        "# mean_train_qwk = np.mean(train_scores)\n",
        "# mean_val_qwk = np.mean(val_scores)\n",
        "\n",
        "# KappaOptimizer = minimize(\n",
        "#     evaluate_predictions,\n",
        "#     x0 = [3.5, 4.5, 5.5, 6.5, 7.5],\n",
        "#     args = (y, oof_non_rounded),\n",
        "#     method='Nelder-Mead'\n",
        "# )\n",
        "\n",
        "# assert KappaOptimizer.success, \"Optimization did not converge.\"\n",
        "\n",
        "# oof_tuned = threshold_Rounder(oof_non_rounded, KappaOptimizer.x)\n",
        "# optimized_qwk = quadratic_weighted_kappa(y, oof_tuned)\n",
        "# optimized_thresholds = KappaOptimizer.x\n",
        "\n",
        "\n",
        "# print(f\"Optimized QWK SCORE: {optimized_qwk:.3f}\")\n",
        "\n",
        "# print(f\"Mean Train QWK: {mean_train_qwk:.4f}\")\n",
        "# print(f\"Mean Validation QWK: {mean_val_qwk:.4f}\")\n",
        "# print(f\"Optimized QWK: {optimized_qwk}\")\n",
        "# print(f\"Optimized thresholds: {optimized_thresholds}\")\n",
        "\n",
        "\n",
        "# # COMPUTE AVERAGE TEST PREDS\n",
        "# y_test_pred /= FOLDS\n",
        "\n",
        "# optimized_y_pred = threshold_Rounder(y_test_pred, optimized_thresholds)"
      ],
      "metadata": {
        "trusted": true,
        "execution": {
          "iopub.status.busy": "2025-03-03T03:26:37.970293Z",
          "iopub.execute_input": "2025-03-03T03:26:37.9706Z",
          "iopub.status.idle": "2025-03-03T03:27:11.306396Z",
          "shell.execute_reply.started": "2025-03-03T03:26:37.970577Z",
          "shell.execute_reply": "2025-03-03T03:27:11.305592Z"
        },
        "id": "_ltuxg0YbhoB"
      },
      "outputs": [],
      "execution_count": null
    },
    {
      "cell_type": "code",
      "source": [
        "submission = pd.DataFrame({\n",
        "        'id': sub['id'],\n",
        "        'quality': optimized_y_pred\n",
        "    })\n",
        "\n",
        "submission.to_csv('submission.csv', index=False)\n",
        "\n",
        "submission.head()"
      ],
      "metadata": {
        "trusted": true,
        "execution": {
          "iopub.status.busy": "2025-03-03T03:28:04.409625Z",
          "iopub.execute_input": "2025-03-03T03:28:04.409936Z",
          "iopub.status.idle": "2025-03-03T03:28:04.418075Z",
          "shell.execute_reply.started": "2025-03-03T03:28:04.409912Z",
          "shell.execute_reply": "2025-03-03T03:28:04.417223Z"
        },
        "id": "YyXw6cXLbhoB"
      },
      "outputs": [],
      "execution_count": null
    },
    {
      "cell_type": "code",
      "source": [],
      "metadata": {
        "trusted": true,
        "id": "826EI84abhoB"
      },
      "outputs": [],
      "execution_count": null
    }
  ]
}